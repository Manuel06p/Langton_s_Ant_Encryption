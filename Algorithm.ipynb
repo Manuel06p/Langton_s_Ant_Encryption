{
 "cells": [
  {
   "cell_type": "markdown",
   "source": [
    "# Algoritmo\n",
    "Questa sezione contiene le funzioni di aggiornamento della formica di Langton, le quali sono comuni al programma di criptazione e di decriptazione."
   ],
   "metadata": {
    "collapsed": false
   }
  },
  {
   "cell_type": "markdown",
   "source": [
    "Questa funzione si occupa del movimento della formica in base alla direzione."
   ],
   "metadata": {
    "collapsed": false
   }
  },
  {
   "cell_type": "code",
   "execution_count": 3,
   "metadata": {
    "collapsed": true
   },
   "outputs": [],
   "source": [
    "def ant_movement(direction, x, y, grid):\n",
    "    if direction == 0:\n",
    "        x = (x - 1) % grid.shape[0]\n",
    "    elif direction == 1:\n",
    "        y = (y + 1) % grid.shape[1]\n",
    "    elif direction == 2:\n",
    "        x = (x + 1) % grid.shape[0]\n",
    "    elif direction == 3:\n",
    "        y = (y - 1) % grid.shape[1]\n",
    "\n",
    "    return x, y"
   ]
  },
  {
   "cell_type": "markdown",
   "source": [
    "Questa funzione si occupa di aggiornare la direzione della formica di Langton e di invertire la cella sopra la quale è posta."
   ],
   "metadata": {
    "collapsed": false
   }
  },
  {
   "cell_type": "code",
   "execution_count": 4,
   "outputs": [],
   "source": [
    "def ant_cell_update(x, y, direction, threshold, grid):\n",
    "    if grid[x, y] < threshold:\n",
    "        grid[x, y] = 255 - grid[x, y]\n",
    "        direction = (direction - 1) % 4\n",
    "    else:\n",
    "        grid[x, y] = 255 - grid[x, y]\n",
    "        direction = (direction + 1) % 4\n",
    "\n",
    "    return x, y, direction, grid"
   ],
   "metadata": {
    "collapsed": false
   }
  },
  {
   "cell_type": "markdown",
   "source": [
    "Questa funzione si occupa di gestire uno step della formica di Langton."
   ],
   "metadata": {
    "collapsed": false
   }
  },
  {
   "cell_type": "code",
   "execution_count": 5,
   "outputs": [],
   "source": [
    "def ant_step(grid, x, y, direction, threshold):\n",
    "    x, y, direction, grid = ant_cell_update(x, y, direction, threshold, grid)\n",
    "    x, y = ant_movement(direction, x, y, grid)\n",
    "\n",
    "    return grid, x, y, direction"
   ],
   "metadata": {
    "collapsed": false
   }
  }
 ],
 "metadata": {
  "kernelspec": {
   "display_name": "Python 3",
   "language": "python",
   "name": "python3"
  },
  "language_info": {
   "codemirror_mode": {
    "name": "ipython",
    "version": 2
   },
   "file_extension": ".py",
   "mimetype": "text/x-python",
   "name": "python",
   "nbconvert_exporter": "python",
   "pygments_lexer": "ipython2",
   "version": "2.7.6"
  }
 },
 "nbformat": 4,
 "nbformat_minor": 0
}
